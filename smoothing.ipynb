{
 "cells": [
  {
   "cell_type": "code",
   "execution_count": 1,
   "metadata": {},
   "outputs": [],
   "source": [
    "import numpy as np\n",
    "import matplotlib.pyplot as plt\n",
    "import pandas as pd\n",
    "import os"
   ]
  },
  {
   "cell_type": "code",
   "execution_count": 2,
   "metadata": {},
   "outputs": [],
   "source": [
    "# ====== Smooth blednshapes before ratargetting them onto the avatar ======\n",
    "def smooth_array(arr, window=4):\n",
    "    kernel = np.array([1] * window) / window\n",
    "    smoothed_arr = np.ones_like(arr)\n",
    "    for i in range(arr.shape[1]):\n",
    "        smoothed_arr[:, i] = np.convolve(arr[:, i], kernel, mode='same')    \n",
    "    return smoothed_arr\n",
    "\n",
    "def smooth_and_get_list_of_blendshapes(arkit_list, window=4): \n",
    "    video_coeffs = []\n",
    "    for row in arkit_list:\n",
    "        frame_coeffs = []\n",
    "        for category in row:\n",
    "            if category != 'Timecode' and category != 'BlendshapeCount':\n",
    "                # prepare for smoothing\n",
    "                frame_coeffs.append(row[category]) \n",
    "        frame_coeffs = np.array(frame_coeffs)\n",
    "        video_coeffs.append(frame_coeffs)\n",
    "    video_coeffs = np.stack(video_coeffs, axis=0)\n",
    "    video_coeffs = smooth_array(video_coeffs, window=window)\n",
    "    # print(video_coeffs)\n",
    "\n",
    "    # Put video_coeffs back to the arkit_list\n",
    "    new_arkit_list = []\n",
    "    for i, row in enumerate(arkit_list):\n",
    "        new_row = {}\n",
    "        j = 0\n",
    "        for category in row:\n",
    "            if category != 'Timecode' and category != 'BlendshapeCount':\n",
    "                new_row[category] = video_coeffs[i, j]\n",
    "                j += 1\n",
    "            else:\n",
    "                new_row[category] = row[category]\n",
    "        # print(new_row)\n",
    "        new_arkit_list.append(new_row)\n",
    "\n",
    "    print(len(new_arkit_list), len(arkit_list))\n",
    "\n",
    "    print(\"new_arkit_list[10] == arkit_list[10]: \", new_arkit_list[10] == arkit_list[10])\n",
    "    return new_arkit_list"
   ]
  },
  {
   "cell_type": "code",
   "execution_count": null,
   "metadata": {},
   "outputs": [],
   "source": [
    "# read existing csv files\n",
    "path = \"predicted_blendshapes\"\n",
    "for root, dirs, files in os.walk(path):\n",
    "    for file in files:\n",
    "        if file.endswith(\"_blendshapes.csv\"):\n",
    "            \n",
    "            filename = file.split(\".\")[0]\n",
    "            df_blendshapes = pd.read_csv(os.path.join(root, file))\n",
    "            \n",
    "            # df_blendshapes to list of dictionaries\n",
    "            arkit_list = df_blendshapes.to_dict('records')\n",
    "            # print(len(arkit_list))\n",
    "\n",
    "            window = 4\n",
    "\n",
    "            new_arkit_list = smooth_and_get_list_of_blendshapes(arkit_list, window=window)\n",
    "\n",
    "            arkit_df = pd.DataFrame(new_arkit_list)\n",
    "\n",
    "            arkit_df.to_csv(\"predicted_blendshapes/smoothed/\" + filename + f\"_smooth-{window}.csv\", index=False)"
   ]
  }
 ],
 "metadata": {
  "kernelspec": {
   "display_name": ".conda",
   "language": "python",
   "name": "python3"
  },
  "language_info": {
   "codemirror_mode": {
    "name": "ipython",
    "version": 3
   },
   "file_extension": ".py",
   "mimetype": "text/x-python",
   "name": "python",
   "nbconvert_exporter": "python",
   "pygments_lexer": "ipython3",
   "version": "3.11.10"
  }
 },
 "nbformat": 4,
 "nbformat_minor": 2
}
